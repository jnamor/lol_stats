{
 "cells": [
  {
   "cell_type": "markdown",
   "id": "reported-fiber",
   "metadata": {},
   "source": [
    "### Collecting user's name\n",
    "L'objectif est de récupérer 500'000 utilisateurs pour analyser leurs 20 dernières parties, soit 10'000'000 de lignes. Les technologies principales utilisées sont :\n",
    "- Python avec ses librairies de scraping (BeautifulSoup, Selenium) et de traitement de la donnée (pandas, numpy, ...)\n",
    "- MySQL pour le stockage faible des données (< 10'000)\n",
    "- PostgreSQL pour le stockage massif des données (> 5'000'000)"
   ]
  },
  {
   "cell_type": "code",
   "execution_count": 2,
   "id": "oriental-beverage",
   "metadata": {},
   "outputs": [],
   "source": [
    "from bs4 import BeautifulSoup\n",
    "import json\n",
    "import time"
   ]
  },
  {
   "cell_type": "code",
   "execution_count": null,
   "id": "valid-india",
   "metadata": {},
   "outputs": [],
   "source": [
    "from selenium import webdriver\n",
    "from selenium.webdriver.edge.service import Service\n",
    "from selenium.webdriver.edge.options import Options\n",
    "from selenium.webdriver.common.by import By"
   ]
  },
  {
   "cell_type": "code",
   "execution_count": 4,
   "id": "assumed-smell",
   "metadata": {},
   "outputs": [],
   "source": [
    "path = \"C:\\Program Files (x86)\\EdgeDriver\\msedgedriver.exe\"\n",
    "service = Service(path, verbose = True)\n",
    "\n",
    "options = Options()\n",
    "options.add_argument('inprivate')\n",
    "options.add_argument('headless')"
   ]
  },
  {
   "cell_type": "code",
   "execution_count": null,
   "id": "distinct-saturn",
   "metadata": {},
   "outputs": [],
   "source": [
    "def openLink(url):\n",
    "    driver = webdriver.Edge(service=service, options=options)\n",
    "    driver.get(url)\n",
    "    soup = BeautifulSoup(driver.page_source, 'html.parser')\n",
    "    \n",
    "    driver.close()\n",
    "    \n",
    "    return soup\n",
    "\n",
    "def summonersName(url):\n",
    "    soup = openLink(url)\n",
    "\n",
    "    return [summoner['id'] for summoner in soup.findAll('tr', {\"class\":\"css-1kk0pwf e1g3wlsd9\"})]"
   ]
  },
  {
   "cell_type": "markdown",
   "id": "talented-balloon",
   "metadata": {},
   "source": [
    "Il faut en moyenne 5 secondes par page pour récupérer les noms utilisateurs"
   ]
  },
  {
   "cell_type": "code",
   "execution_count": 6,
   "id": "brazilian-throw",
   "metadata": {},
   "outputs": [],
   "source": [
    "page = 500\n",
    "\n",
    "summonersNameList = []\n",
    "for i in range(4501):\n",
    "    summonersNameList += summonersName(f\"https://euw.op.gg/leaderboards/tier?region=euw&page={page + i}\")\n",
    "    time.sleep(random.uniform(0, 1.25))\n",
    "    \n",
    "summonersNameList = list(set(summonersNameList))\n",
    "\n",
    "# Sauvegarder les données utilisateurs\n",
    "with open(\"../data/summonersNameList.txt\", \"w\") as file:\n",
    "    json.dump(summonersNameList, file)\n",
    "    \n",
    "# Dupliquer les données utilisateurs pour une étape ultérieure\n",
    "with open(\"../data/summonersNameFilteredList.txt\", \"w\") as file:\n",
    "    json.dump(summonersNameList, file)"
   ]
  },
  {
   "cell_type": "markdown",
   "id": "listed-viewer",
   "metadata": {},
   "source": [
    "### Loading user data"
   ]
  },
  {
   "cell_type": "code",
   "execution_count": 3,
   "id": "aerial-slovenia",
   "metadata": {},
   "outputs": [],
   "source": [
    "with open('../data/summonersNameList.txt') as json_file:\n",
    "    data = json.load(json_file)"
   ]
  },
  {
   "cell_type": "code",
   "execution_count": 4,
   "id": "indirect-father",
   "metadata": {},
   "outputs": [
    {
     "name": "stdout",
     "output_type": "stream",
     "text": [
      "447687\n"
     ]
    }
   ],
   "source": [
    "print(len(data))"
   ]
  }
 ],
 "metadata": {
  "kernelspec": {
   "display_name": "Python 3",
   "language": "python",
   "name": "python3"
  },
  "language_info": {
   "codemirror_mode": {
    "name": "ipython",
    "version": 3
   },
   "file_extension": ".py",
   "mimetype": "text/x-python",
   "name": "python",
   "nbconvert_exporter": "python",
   "pygments_lexer": "ipython3",
   "version": "3.8.8"
  }
 },
 "nbformat": 4,
 "nbformat_minor": 5
}
